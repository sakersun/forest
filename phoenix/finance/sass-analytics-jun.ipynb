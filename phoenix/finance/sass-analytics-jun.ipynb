{
 "cells": [
  {
   "cell_type": "code",
   "execution_count": 26,
   "metadata": {},
   "outputs": [],
   "source": [
    "import pandas as pd\n",
    "import numpy as np\n",
    "\n",
    "df = pd.read_excel('data/SAAS数据分析6月.xlsx', sheet_name='合同数据', header=1)\n",
    "df = df[['客户来源', '年份', '签订合同名称', '下单日期（必填）', '大区', '销售合同金额(元)']]\n",
    "df = df[(df['大区'] != '炼丹炉') & (df['年份'] == 2022)]\n",
    "df['下单月份'] = df['下单日期（必填）'].str.slice(start=0, stop=7)\n",
    "\n",
    "cnt_df = df.groupby(['下单月份', '大区', '客户来源']).agg({'签订合同名称': pd.Series.nunique, '销售合同金额(元)': np.sum})\n",
    "\n",
    "cnt_df.to_excel('data/客户来源去重统计.xlsx')\n"
   ]
  },
  {
   "cell_type": "code",
   "execution_count": 31,
   "metadata": {},
   "outputs": [],
   "source": [
    "import pandas as pd\n",
    "import numpy as np\n",
    "\n",
    "df = pd.read_excel('data/SAAS数据分析6月.xlsx', sheet_name='产品销量统计数据')\n",
    "df = df[['产品名称（必填）取值', '小计（必填）', '合同（必填）', '下单日期', '大区']]\n",
    "\n",
    "\n",
    "df = df[(df['大区'] != '炼丹炉') & (df['下单日期'].str.startswith('2022-'))]\n",
    "\n",
    "\n",
    "df['下单月份'] = df['下单日期'].str.slice(start=0, stop=7)\n",
    "\n",
    "cnt_df = df.groupby(['下单月份', '大区', '产品名称（必填）取值']).agg({'合同（必填）': pd.Series.nunique, '小计（必填）': np.sum})\n",
    "\n",
    "cnt_df.to_excel('data/产品名称去重统计.xlsx')"
   ]
  }
 ],
 "metadata": {
  "kernelspec": {
   "display_name": "Python 3.9.7 ('base')",
   "language": "python",
   "name": "python3"
  },
  "language_info": {
   "codemirror_mode": {
    "name": "ipython",
    "version": 3
   },
   "file_extension": ".py",
   "mimetype": "text/x-python",
   "name": "python",
   "nbconvert_exporter": "python",
   "pygments_lexer": "ipython3",
   "version": "3.9.7"
  },
  "orig_nbformat": 4,
  "vscode": {
   "interpreter": {
    "hash": "20b996f21230bf013832bbfa6b62afd71c07faf878331b05bca59d78d7ced6a5"
   }
  }
 },
 "nbformat": 4,
 "nbformat_minor": 2
}
