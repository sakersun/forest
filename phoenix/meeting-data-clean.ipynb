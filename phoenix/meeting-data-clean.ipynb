{
 "cells": [
  {
   "cell_type": "markdown",
   "metadata": {},
   "source": [
    "# Meeting Data Clean\n",
    "\n",
    "Meeting Indicator Description:\n",
    "- eventid: vbrick event id\n",
    "- start_time: meeting scheduled start time\n",
    "- end_time: meeting scheduled end time\n",
    "- meeting_key: meeting key\n",
    "- site: extract from webexsiteurl\n",
    "- region: extract from vbricksiterul\n",
    "- polls_enabled: polls enabled\n",
    "- chat_enabled: chat enabled\n",
    "- qa_enabled: qa enabled\n",
    "- custom_branding_enabled: custom branding enabled\n",
    "- count_AccountAdmin: count of AccountAdmin\n",
    "- count_Attendee: count of attendee\n",
    "- count_Host: count of host\n",
    "- count_Moderator: count of moderator\n",
    "- session_time_seconds_sum: transform from sessionTime (format HH:MM:ss), sum of all moderators' session time\n",
    "- session_time_seconds_mean: transform from sessionTime (format HH:MM:ss), mean of all moderators' session time\n",
    "- session_time_seconds_median: transform from sessionTime (format HH:MM:ss), median of all moderators' session time\n",
    "- session_time_seconds_max: transform from sessionTime (format HH:MM:ss), max of all moderators' session time\n",
    "- session_time_seconds_min: transform from sessionTime (format HH:MM:ss), min of all moderators' session time\n",
    "- viewing_time_seconds_sum: transform from viewingTime (format HH:MM:ss), sum of all moderators' session time\n",
    "- viewing_time_seconds_mean: transform from viewingTime (format HH:MM:ss), mean of all moderators' session time\n",
    "- viewing_time_seconds_median: transform from viewingTime (format HH:MM:ss), median of all moderators' session time\n",
    "- viewing_time_seconds_max: transform from viewingTime (format HH:MM:ss), max of all moderators' session time\n",
    "- viewing_time_seconds_min: transform from viewingTime (format HH:MM:ss), min of all moderators' session time\n",
    "\n",
    "Attendee Indicator Description:\n",
    "- eventid: vbrick event id\n",
    "- ip_address: IP address\n",
    "- browser: browser\n",
    "- device_type: PC / Mobile\n",
    "- attendee_type: AccountAdmin / Host / Moderator / Attendee\n",
    "- org: extract from user email\n",
    "- session_time_seconds: transform from sessionTime (format HH:MM:ss)\n",
    "- viewing_time_seconds: transform from viewingTime (format HH:MM:ss)"
   ]
  },
  {
   "cell_type": "code",
   "execution_count": null,
   "metadata": {},
   "outputs": [],
   "source": [
    "import numpy as np\n",
    "import pandas as pd\n",
    "import re\n",
    "\n",
    "\"\"\"\n",
    "function list\n",
    "\"\"\"\n",
    "\n",
    "def convert_time(t):\n",
    "    arr = t.split(':')\n",
    "    return float(arr[0]) * 60 * 60 + int(arr[1]) * 60 + int(arr[2])\n",
    "\n",
    "\n",
    "def extract_org(email):\n",
    "    return email.split('@')[1]"
   ]
  },
  {
   "cell_type": "code",
   "execution_count": null,
   "metadata": {},
   "outputs": [],
   "source": [
    "meeting_df = pd.read_excel('D:\\\\workspace\\\\meeting-info.xlsx', dtype={'start_time': np.datetime64, 'end_time': np.datetime64})\n",
    "attendee_df = pd.read_excel('D:\\\\workspace\\\\attendee-list.xlsx', dtype={'entered_date': np.datetime64, 'exited_date': np.datetime64, 'viewing_start_time': np.datetime64})\n",
    "\n",
    "# clean meeting data\n",
    "meeting_df['region'] = meeting_df.apply(lambda row: re.search('https://(.+?).livestream', row.vbrick_site_url).group(1), axis=1)\n",
    "meeting_df['site'] = meeting_df.apply(lambda row: re.search('(.+?).webex.com', row.webex_site_url).group(1), axis=1)\n",
    "\n",
    "# clean attendee data\n",
    "attendee_df['session_time_seconds'] = attendee_df['session_time'].apply(convert_time)\n",
    "attendee_df['viewing_time_seconds'] = attendee_df['viewing_time'].apply(convert_time)\n",
    "attendee_df['org'] = attendee_df['email'].apply(extract_org)"
   ]
  },
  {
   "cell_type": "code",
   "execution_count": null,
   "metadata": {},
   "outputs": [],
   "source": [
    "\n",
    "attendee_subset_df = attendee_df[['eventid', 'ip_address', 'browser', 'device_type', 'attendee_type', 'org', 'session_time_seconds', 'viewing_time_seconds']]\n",
    "meeting_subset_df = meeting_df[['eventid', 'start_time', 'end_time', 'meeting_key', 'site', 'region', 'polls_enabled', 'chat_enabled', 'qa_enabled', 'custom_branding_enabled']]"
   ]
  },
  {
   "cell_type": "code",
   "execution_count": null,
   "metadata": {},
   "outputs": [],
   "source": [
    "# count attendee by type\n",
    "group_attendee_df = attendee_df.groupby(['eventid', 'attendee_type'], as_index=False)['eventid'].agg(['count'])\n",
    "\n",
    "attendee_cnt_df = pd.pivot_table(group_attendee_df, index='eventid', columns='attendee_type', fill_value=0)\n",
    "attendee_cnt_df.columns = ['_'.join(col) for col in attendee_cnt_df.columns.values]\n",
    "\n",
    "attendee_cnt_df = attendee_cnt_df.reset_index()\n",
    "\n",
    "# aggregate time relative\n",
    "group_time_df = attendee_df.groupby('eventid', as_index=False)['session_time_seconds', 'viewing_time_seconds'].agg(['sum', 'mean', 'median', 'max', 'min'])\n",
    "group_time_df.columns = ['_'.join(col) for col in group_time_df.columns.values]\n",
    "\n",
    "attendee_time_df = group_time_df\n",
    "attendee_time_df = group_time_df.reset_index()\n",
    "\n"
   ]
  },
  {
   "cell_type": "code",
   "execution_count": 63,
   "metadata": {},
   "outputs": [],
   "source": [
    "meeting_clean_df = pd.merge(meeting_subset_df, attendee_cnt_df, how='outer', on='eventid')\n",
    "meeting_clean_df = pd.merge(meeting_clean_df, attendee_time_df, how='outer', on='eventid')\n",
    "\n",
    "# fill 0 for numeric measures\n",
    "meeting_clean_df['count_AccountAdmin'] = meeting_clean_df['count_AccountAdmin'].fillna(0)\n",
    "meeting_clean_df['count_Attendee'] = meeting_clean_df['count_Attendee'].fillna(0)\n",
    "meeting_clean_df['count_Host'] = meeting_clean_df['count_Host'].fillna(0)\n",
    "meeting_clean_df['count_Moderator'] = meeting_clean_df['count_Moderator'].fillna(0)\n",
    "meeting_clean_df['session_time_seconds_sum'] = meeting_clean_df['session_time_seconds_sum'].fillna(0)\n",
    "meeting_clean_df['session_time_seconds_mean'] = meeting_clean_df['session_time_seconds_mean'].fillna(0)\n",
    "meeting_clean_df['session_time_seconds_median'] = meeting_clean_df['session_time_seconds_median'].fillna(0)\n",
    "meeting_clean_df['session_time_seconds_max'] = meeting_clean_df['session_time_seconds_max'].fillna(0)\n",
    "meeting_clean_df['session_time_seconds_min'] = meeting_clean_df['session_time_seconds_min'].fillna(0)\n",
    "meeting_clean_df['viewing_time_seconds_sum'] = meeting_clean_df['viewing_time_seconds_sum'].fillna(0)\n",
    "meeting_clean_df['viewing_time_seconds_mean'] = meeting_clean_df['viewing_time_seconds_mean'].fillna(0)\n",
    "meeting_clean_df['viewing_time_seconds_median'] = meeting_clean_df['viewing_time_seconds_median'].fillna(0)\n",
    "meeting_clean_df['viewing_time_seconds_max'] = meeting_clean_df['viewing_time_seconds_max'].fillna(0)\n",
    "meeting_clean_df['viewing_time_seconds_min'] = meeting_clean_df['viewing_time_seconds_min'].fillna(0)\n",
    "\n",
    "# persis to excel\n",
    "meeting_clean_df.to_excel('meeting-clean-data.xlsx')\n",
    "attendee_subset_df.to_excel('attendee-clean-data.xlsx')"
   ]
  }
 ],
 "metadata": {
  "kernelspec": {
   "display_name": "Python 3.9.7 ('base')",
   "language": "python",
   "name": "python3"
  },
  "language_info": {
   "codemirror_mode": {
    "name": "ipython",
    "version": 3
   },
   "file_extension": ".py",
   "mimetype": "text/x-python",
   "name": "python",
   "nbconvert_exporter": "python",
   "pygments_lexer": "ipython3",
   "version": "3.9.7"
  },
  "orig_nbformat": 4,
  "vscode": {
   "interpreter": {
    "hash": "20b996f21230bf013832bbfa6b62afd71c07faf878331b05bca59d78d7ced6a5"
   }
  }
 },
 "nbformat": 4,
 "nbformat_minor": 2
}
