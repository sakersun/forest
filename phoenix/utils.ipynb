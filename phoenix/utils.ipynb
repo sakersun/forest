{
 "cells": [
  {
   "cell_type": "markdown",
   "metadata": {},
   "source": [
    "# regex code\n",
    "extract substring from a link."
   ]
  },
  {
   "cell_type": "code",
   "execution_count": 3,
   "metadata": {},
   "outputs": [
    {
     "name": "stdout",
     "output_type": "stream",
     "text": [
      "apac\n"
     ]
    }
   ],
   "source": [
    "import re\n",
    "link = \"https://apac.playback.com\"\n",
    "\n",
    "found = re.search('https://(.+?).playbook.com', link).group(1)\n",
    "# result is apac, ok\n",
    "print(found)"
   ]
  }
 ],
 "metadata": {
  "kernelspec": {
   "display_name": "Python 3.10.3 64-bit",
   "language": "python",
   "name": "python3"
  },
  "language_info": {
   "codemirror_mode": {
    "name": "ipython",
    "version": 3
   },
   "file_extension": ".py",
   "mimetype": "text/x-python",
   "name": "python",
   "nbconvert_exporter": "python",
   "pygments_lexer": "ipython3",
   "version": "3.10.3"
  },
  "orig_nbformat": 4,
  "vscode": {
   "interpreter": {
    "hash": "abb0ad5064f227bd694ecfef035fb613fa4cf3afdfd64d4d5fcb8f8942e4874f"
   }
  }
 },
 "nbformat": 4,
 "nbformat_minor": 2
}
