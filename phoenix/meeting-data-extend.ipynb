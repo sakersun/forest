{
 "cells": [
  {
   "cell_type": "code",
   "execution_count": null,
   "metadata": {},
   "outputs": [],
   "source": [
    "import numpy as np\n",
    "import pandas as pd"
   ]
  },
  {
   "cell_type": "code",
   "execution_count": null,
   "metadata": {},
   "outputs": [],
   "source": [
    "cert_path = 'D:\\\\workspace\\\\certificates.json'\n",
    "clean_path = 'D:\\\\workspace\\\\meeting-data-20220711'\n",
    "jun_path = 'D:\\\\workspace\\\\meetinginfo_by_meetinguuid-20220601.xlsx'"
   ]
  },
  {
   "cell_type": "code",
   "execution_count": null,
   "metadata": {},
   "outputs": [],
   "source": [
    "\"\"\"\n",
    "get the difference of two dataset\n",
    "\"\"\"\n",
    "clean_df = pd.read_excel(f'{clean_path}\\\\meeting-clean-data.xlsx')[['eventid']]\n",
    "#clean_df = clean_df[~clean_df['webexsiteurl'].str.contains('test')]\n",
    "jun_df = pd.read_excel(jun_path)\n",
    "jun_df = jun_df[~jun_df['webexsiteurl'].str.contains('test')]\n",
    "\n",
    "inner_df  = jun_df.merge(clean_df, how='inner', on='eventid', indicator=False)\n",
    "inner_df\n",
    "\n",
    "diff_df = pd.concat([jun_df, inner_df]).drop_duplicates(keep=False)\n",
    "diff_df.to_excel('D:\\\\workspace\\\\meetinginfo-by-meetinguuid-diff.xlsx')"
   ]
  }
 ],
 "metadata": {
  "kernelspec": {
   "display_name": "Python 3.9.7 ('base')",
   "language": "python",
   "name": "python3"
  },
  "language_info": {
   "codemirror_mode": {
    "name": "ipython",
    "version": 3
   },
   "file_extension": ".py",
   "mimetype": "text/x-python",
   "name": "python",
   "nbconvert_exporter": "python",
   "pygments_lexer": "ipython3",
   "version": "3.9.7"
  },
  "orig_nbformat": 4,
  "vscode": {
   "interpreter": {
    "hash": "20b996f21230bf013832bbfa6b62afd71c07faf878331b05bca59d78d7ced6a5"
   }
  }
 },
 "nbformat": 4,
 "nbformat_minor": 2
}
