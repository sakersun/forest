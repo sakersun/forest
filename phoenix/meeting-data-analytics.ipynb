{
 "cells": [
  {
   "cell_type": "markdown",
   "metadata": {},
   "source": [
    "# Meeting Analytics\n"
   ]
  },
  {
   "cell_type": "code",
   "execution_count": 29,
   "metadata": {},
   "outputs": [
    {
     "data": {
      "text/plain": [
       "eventid                                object\n",
       "start_time                     datetime64[ns]\n",
       "end_time                       datetime64[ns]\n",
       "meeting_key                             int64\n",
       "site                                   object\n",
       "region                                 object\n",
       "polls_enabled                            bool\n",
       "chat_enabled                             bool\n",
       "qa_enabled                               bool\n",
       "custom_branding_enabled                  bool\n",
       "count_AccountAdmin                      int64\n",
       "count_Attendee                          int64\n",
       "count_Host                              int64\n",
       "count_Moderator                         int64\n",
       "session_time_seconds_sum                int64\n",
       "session_time_seconds_mean             float64\n",
       "session_time_seconds_median           float64\n",
       "session_time_seconds_max                int64\n",
       "session_time_seconds_min                int64\n",
       "viewing_time_seconds_sum                int64\n",
       "viewing_time_seconds_mean             float64\n",
       "viewing_time_seconds_median           float64\n",
       "viewing_time_seconds_max                int64\n",
       "viewing_time_seconds_min                int64\n",
       "dtype: object"
      ]
     },
     "execution_count": 29,
     "metadata": {},
     "output_type": "execute_result"
    }
   ],
   "source": [
    "import numpy as np\n",
    "import pandas as pd\n",
    "import matplotlib.pyplot as plt\n",
    "import seaborn as sns\n",
    "\n",
    "meeting_df = pd.read_excel('D:\\\\workspace\\\\meeting-clean-data.xlsx')\n",
    "meeting_df.dtypes"
   ]
  },
  {
   "cell_type": "code",
   "execution_count": 35,
   "metadata": {},
   "outputs": [
    {
     "data": {
      "text/plain": [
       "<AxesSubplot:xlabel='end_time', ylabel='count_Attendee'>"
      ]
     },
     "execution_count": 35,
     "metadata": {},
     "output_type": "execute_result"
    },
    {
     "data": {
      "image/png": "[encoded data removed]",
      "text/plain": [
       "<Figure size 432x288 with 1 Axes>"
      ]
     },
     "metadata": {
      "needs_background": "light"
     },
     "output_type": "display_data"
    }
   ],
   "source": [
    "meeting_df.plot.scatter(x = 'end_time', y='count_Attendee')"
   ]
  },
  {
   "cell_type": "code",
   "execution_count": 22,
   "metadata": {},
   "outputs": [
    {
     "data": {
      "text/plain": [
       "<AxesSubplot:ylabel='Density'>"
      ]
     },
     "execution_count": 22,
     "metadata": {},
     "output_type": "execute_result"
    },
    {
     "data": {
      "image/png": "[encoded data removed]",
      "text/plain": [
       "<Figure size 432x288 with 1 Axes>"
      ]
     },
     "metadata": {
      "needs_background": "light"
     },
     "output_type": "display_data"
    }
   ],
   "source": [
    "meeting_df['count_Attendee'].plot.kde()"
   ]
  },
  {
   "cell_type": "code",
   "execution_count": 42,
   "metadata": {},
   "outputs": [
    {
     "data": {
      "text/html": [
       "<div>\n",
       "<style scoped>\n",
       "    .dataframe tbody tr th:only-of-type {\n",
       "        vertical-align: middle;\n",
       "    }\n",
       "\n",
       "    .dataframe tbody tr th {\n",
       "        vertical-align: top;\n",
       "    }\n",
       "\n",
       "    .dataframe thead th {\n",
       "        text-align: right;\n",
       "    }\n",
       "</style>\n",
       "<table border=\"1\" class=\"dataframe\">\n",
       "  <thead>\n",
       "    <tr style=\"text-align: right;\">\n",
       "      <th></th>\n",
       "      <th>eventid</th>\n",
       "      <th>start_time</th>\n",
       "      <th>end_time</th>\n",
       "      <th>meeting_key</th>\n",
       "      <th>site</th>\n",
       "      <th>region</th>\n",
       "      <th>polls_enabled</th>\n",
       "      <th>chat_enabled</th>\n",
       "      <th>qa_enabled</th>\n",
       "      <th>custom_branding_enabled</th>\n",
       "      <th>...</th>\n",
       "      <th>session_time_seconds_mean</th>\n",
       "      <th>session_time_seconds_median</th>\n",
       "      <th>session_time_seconds_max</th>\n",
       "      <th>session_time_seconds_min</th>\n",
       "      <th>viewing_time_seconds_sum</th>\n",
       "      <th>viewing_time_seconds_mean</th>\n",
       "      <th>viewing_time_seconds_median</th>\n",
       "      <th>viewing_time_seconds_max</th>\n",
       "      <th>viewing_time_seconds_min</th>\n",
       "      <th>ds</th>\n",
       "    </tr>\n",
       "  </thead>\n",
       "  <tbody>\n",
       "    <tr>\n",
       "      <th>0</th>\n",
       "      <td>1c603ba6-3426-4d89-917c-892647f8624e</td>\n",
       "      <td>2022-03-09 17:00:00</td>\n",
       "      <td>2022-03-09 18:00:00</td>\n",
       "      <td>26316121702</td>\n",
       "      <td>nychhcevent</td>\n",
       "      <td>us</td>\n",
       "      <td>True</td>\n",
       "      <td>False</td>\n",
       "      <td>True</td>\n",
       "      <td>False</td>\n",
       "      <td>...</td>\n",
       "      <td>2599.127505</td>\n",
       "      <td>3114.0</td>\n",
       "      <td>5341</td>\n",
       "      <td>20</td>\n",
       "      <td>1082395</td>\n",
       "      <td>1971.575592</td>\n",
       "      <td>2408.0</td>\n",
       "      <td>3579</td>\n",
       "      <td>0</td>\n",
       "      <td>2022-03-09</td>\n",
       "    </tr>\n",
       "    <tr>\n",
       "      <th>1</th>\n",
       "      <td>e48663d7-8c9f-47bd-b21d-82e7b1632870</td>\n",
       "      <td>2021-12-13 08:25:00</td>\n",
       "      <td>2021-12-13 09:25:00</td>\n",
       "      <td>25792134038</td>\n",
       "      <td>cisco</td>\n",
       "      <td>us</td>\n",
       "      <td>True</td>\n",
       "      <td>True</td>\n",
       "      <td>False</td>\n",
       "      <td>False</td>\n",
       "      <td>...</td>\n",
       "      <td>8.000000</td>\n",
       "      <td>8.0</td>\n",
       "      <td>8</td>\n",
       "      <td>8</td>\n",
       "      <td>0</td>\n",
       "      <td>0.000000</td>\n",
       "      <td>0.0</td>\n",
       "      <td>0</td>\n",
       "      <td>0</td>\n",
       "      <td>2021-12-13</td>\n",
       "    </tr>\n",
       "    <tr>\n",
       "      <th>2</th>\n",
       "      <td>a5c81378-34c2-4de0-8fbf-3d84252b927e</td>\n",
       "      <td>2021-10-10 01:50:00</td>\n",
       "      <td>2021-10-10 02:50:00</td>\n",
       "      <td>25799145916</td>\n",
       "      <td>cisco</td>\n",
       "      <td>eu</td>\n",
       "      <td>True</td>\n",
       "      <td>True</td>\n",
       "      <td>True</td>\n",
       "      <td>False</td>\n",
       "      <td>...</td>\n",
       "      <td>4000.250000</td>\n",
       "      <td>3927.0</td>\n",
       "      <td>6462</td>\n",
       "      <td>1685</td>\n",
       "      <td>9931</td>\n",
       "      <td>2482.750000</td>\n",
       "      <td>1766.0</td>\n",
       "      <td>6399</td>\n",
       "      <td>0</td>\n",
       "      <td>2021-10-10</td>\n",
       "    </tr>\n",
       "    <tr>\n",
       "      <th>3</th>\n",
       "      <td>270e1b20-a328-4ce6-9dbb-29135b61d9e6</td>\n",
       "      <td>2022-01-28 11:00:00</td>\n",
       "      <td>2022-01-28 11:40:00</td>\n",
       "      <td>25501445403</td>\n",
       "      <td>ltievents</td>\n",
       "      <td>eu</td>\n",
       "      <td>True</td>\n",
       "      <td>True</td>\n",
       "      <td>True</td>\n",
       "      <td>False</td>\n",
       "      <td>...</td>\n",
       "      <td>936.777778</td>\n",
       "      <td>1329.0</td>\n",
       "      <td>1996</td>\n",
       "      <td>26</td>\n",
       "      <td>3417</td>\n",
       "      <td>379.666667</td>\n",
       "      <td>0.0</td>\n",
       "      <td>1223</td>\n",
       "      <td>0</td>\n",
       "      <td>2022-01-28</td>\n",
       "    </tr>\n",
       "    <tr>\n",
       "      <th>4</th>\n",
       "      <td>a579b5f2-09cd-44a0-b471-0a931f5ecf03</td>\n",
       "      <td>2022-01-27 14:30:00</td>\n",
       "      <td>2022-01-27 16:30:00</td>\n",
       "      <td>23363816691</td>\n",
       "      <td>ford</td>\n",
       "      <td>us</td>\n",
       "      <td>False</td>\n",
       "      <td>False</td>\n",
       "      <td>False</td>\n",
       "      <td>True</td>\n",
       "      <td>...</td>\n",
       "      <td>2682.822034</td>\n",
       "      <td>3225.5</td>\n",
       "      <td>4107</td>\n",
       "      <td>44</td>\n",
       "      <td>305408</td>\n",
       "      <td>2588.203390</td>\n",
       "      <td>3213.5</td>\n",
       "      <td>3549</td>\n",
       "      <td>0</td>\n",
       "      <td>2022-01-27</td>\n",
       "    </tr>\n",
       "  </tbody>\n",
       "</table>\n",
       "<p>5 rows × 25 columns</p>\n",
       "</div>"
      ],
      "text/plain": [
       "                                eventid          start_time  \\\n",
       "0  1c603ba6-3426-4d89-917c-892647f8624e 2022-03-09 17:00:00   \n",
       "1  e48663d7-8c9f-47bd-b21d-82e7b1632870 2021-12-13 08:25:00   \n",
       "2  a5c81378-34c2-4de0-8fbf-3d84252b927e 2021-10-10 01:50:00   \n",
       "3  270e1b20-a328-4ce6-9dbb-29135b61d9e6 2022-01-28 11:00:00   \n",
       "4  a579b5f2-09cd-44a0-b471-0a931f5ecf03 2022-01-27 14:30:00   \n",
       "\n",
       "             end_time  meeting_key         site region  polls_enabled  \\\n",
       "0 2022-03-09 18:00:00  26316121702  nychhcevent     us           True   \n",
       "1 2021-12-13 09:25:00  25792134038        cisco     us           True   \n",
       "2 2021-10-10 02:50:00  25799145916        cisco     eu           True   \n",
       "3 2022-01-28 11:40:00  25501445403    ltievents     eu           True   \n",
       "4 2022-01-27 16:30:00  23363816691         ford     us          False   \n",
       "\n",
       "   chat_enabled  qa_enabled  custom_branding_enabled  ...  \\\n",
       "0         False        True                    False  ...   \n",
       "1          True       False                    False  ...   \n",
       "2          True        True                    False  ...   \n",
       "3          True        True                    False  ...   \n",
       "4         False       False                     True  ...   \n",
       "\n",
       "   session_time_seconds_mean  session_time_seconds_median  \\\n",
       "0                2599.127505                       3114.0   \n",
       "1                   8.000000                          8.0   \n",
       "2                4000.250000                       3927.0   \n",
       "3                 936.777778                       1329.0   \n",
       "4                2682.822034                       3225.5   \n",
       "\n",
       "   session_time_seconds_max  session_time_seconds_min  \\\n",
       "0                      5341                        20   \n",
       "1                         8                         8   \n",
       "2                      6462                      1685   \n",
       "3                      1996                        26   \n",
       "4                      4107                        44   \n",
       "\n",
       "   viewing_time_seconds_sum  viewing_time_seconds_mean  \\\n",
       "0                   1082395                1971.575592   \n",
       "1                         0                   0.000000   \n",
       "2                      9931                2482.750000   \n",
       "3                      3417                 379.666667   \n",
       "4                    305408                2588.203390   \n",
       "\n",
       "   viewing_time_seconds_median  viewing_time_seconds_max  \\\n",
       "0                       2408.0                      3579   \n",
       "1                          0.0                         0   \n",
       "2                       1766.0                      6399   \n",
       "3                          0.0                      1223   \n",
       "4                       3213.5                      3549   \n",
       "\n",
       "   viewing_time_seconds_min          ds  \n",
       "0                         0  2022-03-09  \n",
       "1                         0  2021-12-13  \n",
       "2                         0  2021-10-10  \n",
       "3                         0  2022-01-28  \n",
       "4                         0  2022-01-27  \n",
       "\n",
       "[5 rows x 25 columns]"
      ]
     },
     "execution_count": 42,
     "metadata": {},
     "output_type": "execute_result"
    }
   ],
   "source": [
    "meeting_df['ds'] = meeting_df['start_time'].apply(lambda t: t.strftime('%Y-%m-%d'))\n",
    "meeting_df.head()\n"
   ]
  }
 ],
 "metadata": {
  "kernelspec": {
   "display_name": "Python 3.9.7 ('base')",
   "language": "python",
   "name": "python3"
  },
  "language_info": {
   "codemirror_mode": {
    "name": "ipython",
    "version": 3
   },
   "file_extension": ".py",
   "mimetype": "text/x-python",
   "name": "python",
   "nbconvert_exporter": "python",
   "pygments_lexer": "ipython3",
   "version": "3.9.7"
  },
  "orig_nbformat": 4,
  "vscode": {
   "interpreter": {
    "hash": "20b996f21230bf013832bbfa6b62afd71c07faf878331b05bca59d78d7ced6a5"
   }
  }
 },
 "nbformat": 4,
 "nbformat_minor": 2
}
